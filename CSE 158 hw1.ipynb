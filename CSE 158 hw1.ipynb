{
 "cells": [
  {
   "cell_type": "code",
   "execution_count": 42,
   "id": "e7b5eca3",
   "metadata": {},
   "outputs": [],
   "source": [
    "import pandas as pd\n",
    "import numpy as np\n",
    "import seaborn as sns\n",
    "import matplotlib.pyplot as plt\n",
    "import os\n",
    "import scipy\n",
    "import dateutil.parser\n",
    "from sklearn.linear_model import LinearRegression\n",
    "from sklearn.linear_model import LogisticRegression\n",
    "from sklearn.preprocessing import FunctionTransformer\n",
    "from sklearn.preprocessing import OneHotEncoder\n",
    "from sklearn.pipeline import Pipeline\n",
    "from sklearn.compose import ColumnTransformer\n",
    "\n",
    "from sklearn.tree import DecisionTreeRegressor\n",
    "from sklearn.model_selection import train_test_split\n",
    "from sklearn.neighbors import KNeighborsRegressor\n",
    "from sklearn.model_selection import train_test_split"
   ]
  },
  {
   "cell_type": "code",
   "execution_count": 43,
   "id": "05abea00",
   "metadata": {
    "scrolled": true
   },
   "outputs": [],
   "source": [
    "fp = os.path.join('data', 'fantasy_10000.json.gz')\n",
    "data = pd.read_json(fp, lines=True)"
   ]
  },
  {
   "cell_type": "code",
   "execution_count": 44,
   "id": "0774e670",
   "metadata": {},
   "outputs": [],
   "source": [
    "rating = data['rating']\n",
    "data['review_text'] = data['review_text'].apply(len)"
   ]
  },
  {
   "cell_type": "code",
   "execution_count": 45,
   "id": "f178f164",
   "metadata": {},
   "outputs": [
    {
     "data": {
      "text/plain": [
       "<matplotlib.collections.PathCollection at 0x7f584b888b80>"
      ]
     },
     "execution_count": 45,
     "metadata": {},
     "output_type": "execute_result"
    },
    {
     "data": {
      "image/png": "[encoded data removed]",
      "text/plain": [
       "<Figure size 432x288 with 1 Axes>"
      ]
     },
     "metadata": {
      "needs_background": "light"
     },
     "output_type": "display_data"
    }
   ],
   "source": [
    "#Question 1\n",
    "plt.scatter(data['review_text'], rating)"
   ]
  },
  {
   "cell_type": "code",
   "execution_count": 46,
   "id": "4395b003",
   "metadata": {},
   "outputs": [
    {
     "data": {
      "text/plain": [
       "6.873716748962768e-05"
      ]
     },
     "execution_count": 46,
     "metadata": {},
     "output_type": "execute_result"
    }
   ],
   "source": [
    "#Question2\n",
    "predictor = scipy.stats.linregress(data['review_text'], rating)\n",
    "#theta1\n",
    "predictor.slope"
   ]
  },
  {
   "cell_type": "code",
   "execution_count": 47,
   "id": "d8288a6c",
   "metadata": {
    "scrolled": true
   },
   "outputs": [
    {
     "data": {
      "text/plain": [
       "3.685681355016952"
      ]
     },
     "execution_count": 47,
     "metadata": {},
     "output_type": "execute_result"
    }
   ],
   "source": [
    "#theta0\n",
    "predictor.intercept"
   ]
  },
  {
   "cell_type": "code",
   "execution_count": 48,
   "id": "5d652012",
   "metadata": {},
   "outputs": [
    {
     "data": {
      "text/plain": [
       "1.5522086622355349"
      ]
     },
     "execution_count": 48,
     "metadata": {},
     "output_type": "execute_result"
    }
   ],
   "source": [
    "predictions = (predictor.slope*data['review_text'])+predictor.intercept\n",
    "mse2 = np.square(np.subtract(data['rating'], predictions)).mean()\n",
    "#MSE\n",
    "mse2"
   ]
  },
  {
   "cell_type": "code",
   "execution_count": 49,
   "id": "9a794712",
   "metadata": {},
   "outputs": [],
   "source": [
    "#Question3\n",
    "data['weekday'] = data['date_added'].apply(lambda x: dateutil.parser.parse(x).weekday())\n",
    "data['year'] = data['date_added'].apply(lambda x: dateutil.parser.parse(x).year)"
   ]
  },
  {
   "cell_type": "code",
   "execution_count": 50,
   "id": "8864b03a",
   "metadata": {},
   "outputs": [],
   "source": [
    "ohe = OneHotEncoder(drop='first')"
   ]
  },
  {
   "cell_type": "code",
   "execution_count": 51,
   "id": "0ca82f84",
   "metadata": {},
   "outputs": [
    {
     "data": {
      "text/plain": [
       "OneHotEncoder(drop='first')"
      ]
     },
     "execution_count": 51,
     "metadata": {},
     "output_type": "execute_result"
    }
   ],
   "source": [
    "ohe.fit(data[['weekday','year']])"
   ]
  },
  {
   "cell_type": "code",
   "execution_count": 52,
   "id": "ad01762c",
   "metadata": {},
   "outputs": [
    {
     "data": {
      "text/plain": [
       "array([[0., 0., 0., 0., 0., 1., 0., 0., 0., 0., 0., 0., 0., 0., 0., 0.,\n",
       "        1.],\n",
       "       [0., 1., 0., 0., 0., 0., 0., 0., 0., 0., 0., 0., 0., 1., 0., 0.,\n",
       "        0.]])"
      ]
     },
     "execution_count": 52,
     "metadata": {},
     "output_type": "execute_result"
    }
   ],
   "source": [
    "#Q3 answer\n",
    "X = ohe.transform(data[['weekday','year']]).toarray()\n",
    "X[:2]"
   ]
  },
  {
   "cell_type": "code",
   "execution_count": 53,
   "id": "c336ed98",
   "metadata": {},
   "outputs": [
    {
     "data": {
      "text/plain": [
       "array([5.50923292e-05, 8.75072300e-03, 5.23592268e-02])"
      ]
     },
     "execution_count": 53,
     "metadata": {},
     "output_type": "execute_result"
    }
   ],
   "source": [
    "#Question4\n",
    "reg = LinearRegression()\n",
    "reg.fit(data[['review_text','weekday','year']], data['rating'])\n",
    "reg.coef_"
   ]
  },
  {
   "cell_type": "code",
   "execution_count": 54,
   "id": "e5d6e51b",
   "metadata": {},
   "outputs": [
    {
     "data": {
      "text/plain": [
       "-101.7424610652963"
      ]
     },
     "execution_count": 54,
     "metadata": {},
     "output_type": "execute_result"
    }
   ],
   "source": [
    "reg.intercept_"
   ]
  },
  {
   "cell_type": "code",
   "execution_count": 55,
   "id": "0addf76d",
   "metadata": {},
   "outputs": [],
   "source": [
    "x_pred = reg.predict(data[['review_text','weekday','year']])"
   ]
  },
  {
   "cell_type": "code",
   "execution_count": 56,
   "id": "cbe8a1d6",
   "metadata": {},
   "outputs": [
    {
     "data": {
      "text/plain": [
       "1.536774049870521"
      ]
     },
     "execution_count": 56,
     "metadata": {},
     "output_type": "execute_result"
    }
   ],
   "source": [
    "mse41 = np.square(np.subtract(data['rating'],x_pred)).mean()\n",
    "#MSE for weekday and year as direct features\n",
    "mse41"
   ]
  },
  {
   "cell_type": "code",
   "execution_count": 57,
   "id": "a7062bc6",
   "metadata": {},
   "outputs": [],
   "source": [
    "data['length'] = data['review_text']"
   ]
  },
  {
   "cell_type": "code",
   "execution_count": 58,
   "id": "bf32a765",
   "metadata": {},
   "outputs": [
    {
     "data": {
      "text/plain": [
       "Pipeline(steps=[('ct',\n",
       "                 ColumnTransformer(transformers=[('ohe',\n",
       "                                                  OneHotEncoder(drop='first'),\n",
       "                                                  ['weekday', 'year'])])),\n",
       "                ('lr', LinearRegression())])"
      ]
     },
     "execution_count": 58,
     "metadata": {},
     "output_type": "execute_result"
    }
   ],
   "source": [
    "ct = ColumnTransformer([('ohe', OneHotEncoder(drop = 'first'), ['weekday', 'year'])])\n",
    "pl = Pipeline([('ct', ct), ('lr', LinearRegression())])\n",
    "pl.fit(data[['weekday', 'year', 'length']], data['rating'])"
   ]
  },
  {
   "cell_type": "code",
   "execution_count": 59,
   "id": "d12190b6",
   "metadata": {},
   "outputs": [
    {
     "data": {
      "text/plain": [
       "1.5150910945986422"
      ]
     },
     "execution_count": 59,
     "metadata": {},
     "output_type": "execute_result"
    }
   ],
   "source": [
    "mse42 = np.square(np.subtract(data['rating'], pl.predict(data[['weekday','year','length']]))).mean()\n",
    "#MSE for one hot encoding\n",
    "mse42"
   ]
  },
  {
   "cell_type": "code",
   "execution_count": 60,
   "id": "38b191c0",
   "metadata": {},
   "outputs": [],
   "source": [
    "#Queston 5\n",
    "dat = data[['rating', 'weekday','year','review_text']]\n",
    "X = dat.drop('rating', axis =1)\n",
    "y = dat['rating']\n",
    "X_train, X_test, Y_train, Y_test = train_test_split(X, y, test_size = 0.5)"
   ]
  },
  {
   "cell_type": "code",
   "execution_count": 61,
   "id": "990bfadf",
   "metadata": {},
   "outputs": [
    {
     "name": "stdout",
     "output_type": "stream",
     "text": [
      "1.536625462828211\n",
      "1.5372231098132425\n"
     ]
    }
   ],
   "source": [
    "reg = LinearRegression()\n",
    "reg.fit(X_train, Y_train)\n",
    "#MSE for model 1 for test \n",
    "print(np.square(np.subtract(Y_test, reg.predict(X_test))).mean())\n",
    "#MSE for model 1 for train\n",
    "print(np.square(np.subtract(Y_train, reg.predict(X_train))).mean())"
   ]
  },
  {
   "cell_type": "code",
   "execution_count": 62,
   "id": "0d245ff0",
   "metadata": {
    "scrolled": true
   },
   "outputs": [
    {
     "data": {
      "text/plain": [
       "Pipeline(steps=[('ct',\n",
       "                 ColumnTransformer(transformers=[('ohe',\n",
       "                                                  OneHotEncoder(drop='first'),\n",
       "                                                  ['weekday', 'year'])])),\n",
       "                ('lr', LinearRegression())])"
      ]
     },
     "execution_count": 62,
     "metadata": {},
     "output_type": "execute_result"
    }
   ],
   "source": [
    "ct = ColumnTransformer([('ohe', OneHotEncoder(drop = 'first'), ['weekday', 'year'])])\n",
    "pl = Pipeline([('ct', ct), ('lr', LinearRegression())])\n",
    "pl.fit(X_train, Y_train)"
   ]
  },
  {
   "cell_type": "code",
   "execution_count": 63,
   "id": "5ad94c41",
   "metadata": {},
   "outputs": [
    {
     "name": "stdout",
     "output_type": "stream",
     "text": [
      "1.5211678756107652\n",
      "1.5136878483235623\n"
     ]
    }
   ],
   "source": [
    "#MSE for one hot encoding for test \n",
    "print(np.square(np.subtract(Y_test, pl.predict(X_test))).mean())\n",
    "#MSE for one hot encoding for train\n",
    "print(np.square(np.subtract(Y_train, pl.predict(X_train))).mean())"
   ]
  },
  {
   "cell_type": "code",
   "execution_count": 64,
   "id": "6f29a308",
   "metadata": {
    "scrolled": true
   },
   "outputs": [],
   "source": [
    "fp = os.path.join('data', 'beer_50000.json')\n",
    "def parseData(fp):\n",
    "    for i in open(fp):\n",
    "        yield eval(i)\n",
    "data = list(parseData(fp))"
   ]
  },
  {
   "cell_type": "code",
   "execution_count": 65,
   "id": "937bc02c",
   "metadata": {},
   "outputs": [],
   "source": [
    "beer = pd.DataFrame(data)"
   ]
  },
  {
   "cell_type": "code",
   "execution_count": 66,
   "id": "6775e9d6",
   "metadata": {},
   "outputs": [],
   "source": [
    "reviews = np.array(beer['review/overall'] >= 4)"
   ]
  },
  {
   "cell_type": "code",
   "execution_count": 67,
   "id": "b1abd2e0",
   "metadata": {},
   "outputs": [
    {
     "data": {
      "text/plain": [
       "LogisticRegression(class_weight='balanced')"
      ]
     },
     "execution_count": 67,
     "metadata": {},
     "output_type": "execute_result"
    }
   ],
   "source": [
    "#Question 7\n",
    "beer['length'] = beer['review/text'].apply(len)\n",
    "reg = LogisticRegression(class_weight = 'balanced')\n",
    "X = beer['length'].to_numpy().reshape(-1, 1)\n",
    "Y = np.array(beer['review/overall'] >= 4)\n",
    "reg.fit(X,Y)"
   ]
  },
  {
   "cell_type": "code",
   "execution_count": 68,
   "id": "58056c78",
   "metadata": {},
   "outputs": [
    {
     "data": {
      "text/html": [
       "<div>\n",
       "<style scoped>\n",
       "    .dataframe tbody tr th:only-of-type {\n",
       "        vertical-align: middle;\n",
       "    }\n",
       "\n",
       "    .dataframe tbody tr th {\n",
       "        vertical-align: top;\n",
       "    }\n",
       "\n",
       "    .dataframe thead th {\n",
       "        text-align: right;\n",
       "    }\n",
       "</style>\n",
       "<table border=\"1\" class=\"dataframe\">\n",
       "  <thead>\n",
       "    <tr style=\"text-align: right;\">\n",
       "      <th></th>\n",
       "      <th>predictions</th>\n",
       "      <th>accurate</th>\n",
       "    </tr>\n",
       "  </thead>\n",
       "  <tbody>\n",
       "    <tr>\n",
       "      <th>0</th>\n",
       "      <td>False</td>\n",
       "      <td>False</td>\n",
       "    </tr>\n",
       "    <tr>\n",
       "      <th>1</th>\n",
       "      <td>False</td>\n",
       "      <td>False</td>\n",
       "    </tr>\n",
       "    <tr>\n",
       "      <th>2</th>\n",
       "      <td>False</td>\n",
       "      <td>False</td>\n",
       "    </tr>\n",
       "    <tr>\n",
       "      <th>3</th>\n",
       "      <td>False</td>\n",
       "      <td>False</td>\n",
       "    </tr>\n",
       "    <tr>\n",
       "      <th>4</th>\n",
       "      <td>True</td>\n",
       "      <td>True</td>\n",
       "    </tr>\n",
       "    <tr>\n",
       "      <th>...</th>\n",
       "      <td>...</td>\n",
       "      <td>...</td>\n",
       "    </tr>\n",
       "    <tr>\n",
       "      <th>49995</th>\n",
       "      <td>False</td>\n",
       "      <td>True</td>\n",
       "    </tr>\n",
       "    <tr>\n",
       "      <th>49996</th>\n",
       "      <td>True</td>\n",
       "      <td>True</td>\n",
       "    </tr>\n",
       "    <tr>\n",
       "      <th>49997</th>\n",
       "      <td>False</td>\n",
       "      <td>False</td>\n",
       "    </tr>\n",
       "    <tr>\n",
       "      <th>49998</th>\n",
       "      <td>True</td>\n",
       "      <td>True</td>\n",
       "    </tr>\n",
       "    <tr>\n",
       "      <th>49999</th>\n",
       "      <td>False</td>\n",
       "      <td>True</td>\n",
       "    </tr>\n",
       "  </tbody>\n",
       "</table>\n",
       "<p>50000 rows × 2 columns</p>\n",
       "</div>"
      ],
      "text/plain": [
       "       predictions  accurate\n",
       "0            False     False\n",
       "1            False     False\n",
       "2            False     False\n",
       "3            False     False\n",
       "4             True      True\n",
       "...            ...       ...\n",
       "49995        False      True\n",
       "49996         True      True\n",
       "49997        False     False\n",
       "49998         True      True\n",
       "49999        False      True\n",
       "\n",
       "[50000 rows x 2 columns]"
      ]
     },
     "execution_count": 68,
     "metadata": {},
     "output_type": "execute_result"
    }
   ],
   "source": [
    "preds = pd.DataFrame(reg.predict(X))\n",
    "beer['predictions'] = preds\n",
    "beer['accurate'] = beer['review/overall'] >= 4\n",
    "comparison = beer[['predictions','accurate']]\n",
    "comparison"
   ]
  },
  {
   "cell_type": "code",
   "execution_count": 69,
   "id": "c9e8625d",
   "metadata": {},
   "outputs": [],
   "source": [
    "#TP \n",
    "TP = comparison[comparison['predictions'] == True]\n",
    "TP = TP['predictions'] == TP['accurate']\n",
    "TP = TP.value_counts()[1]/beer.shape[0]\n",
    "#TN \n",
    "TN = comparison[comparison['predictions'] == False]\n",
    "TN = TN['predictions'] == TN['accurate']\n",
    "TN = TN.value_counts()[1]/beer.shape[0]\n",
    "#FP\n",
    "FP = comparison[comparison['predictions'] == True]\n",
    "FP = FP['predictions'] != FP['accurate']\n",
    "FP = FP.value_counts()[1]/beer.shape[0]\n",
    "#FN\n",
    "FN = comparison[comparison['predictions'] == False]\n",
    "FN = FN['predictions'] != FN['accurate']\n",
    "FN = FN.value_counts()[1]/beer.shape[0]"
   ]
  },
  {
   "cell_type": "code",
   "execution_count": 70,
   "id": "93144407",
   "metadata": {},
   "outputs": [
    {
     "data": {
      "text/plain": [
       "(0.28402, 0.21006, 0.1177, 0.38822)"
      ]
     },
     "execution_count": 70,
     "metadata": {},
     "output_type": "execute_result"
    }
   ],
   "source": [
    "TP, TN, FP, FN"
   ]
  },
  {
   "cell_type": "code",
   "execution_count": 71,
   "id": "337ef0f2",
   "metadata": {},
   "outputs": [
    {
     "data": {
      "text/plain": [
       "(0.4224979174104487, 0.6408957773980961)"
      ]
     },
     "execution_count": 71,
     "metadata": {},
     "output_type": "execute_result"
    }
   ],
   "source": [
    "#True Negative Rate \n",
    "TNR = TN/(TN+FP)\n",
    "# True Positive Rate\n",
    "TPR = TP/(TP+FN)\n",
    "\n",
    "TPR, TNR"
   ]
  },
  {
   "cell_type": "code",
   "execution_count": 72,
   "id": "a898e915",
   "metadata": {},
   "outputs": [
    {
     "data": {
      "text/plain": [
       "0.46830315259572763"
      ]
     },
     "execution_count": 72,
     "metadata": {},
     "output_type": "execute_result"
    }
   ],
   "source": [
    "#balanced error rate\n",
    "BER = 1 - 0.5*(TPR+TNR)\n",
    "BER"
   ]
  },
  {
   "cell_type": "code",
   "execution_count": 92,
   "id": "3cfaa97a",
   "metadata": {},
   "outputs": [],
   "source": [
    "beer['pos'] = reg.decision_function(X)\n",
    "sorted_pos = beer.sort_values(by = 'pos', ascending = False)"
   ]
  },
  {
   "cell_type": "code",
   "execution_count": 76,
   "id": "73e103fa",
   "metadata": {},
   "outputs": [],
   "source": [
    "#Question 8\n",
    "\n",
    "def TP_rates(beer, size):\n",
    "    TP = beer[beer['predictions'] == True]\n",
    "    TP = TP[TP['accurate'] == True].shape[0]/size\n",
    "    return TP"
   ]
  },
  {
   "cell_type": "code",
   "execution_count": 77,
   "id": "23f8b583",
   "metadata": {},
   "outputs": [],
   "source": [
    "TP_rate = []\n",
    "for i in range(1, 10001):\n",
    "    TP_rate.append(TP_rates(sorted_pos.iloc[0:i], i))"
   ]
  },
  {
   "cell_type": "code",
   "execution_count": 78,
   "id": "fef92235",
   "metadata": {},
   "outputs": [
    {
     "data": {
      "text/plain": [
       "[<matplotlib.lines.Line2D at 0x7f58485a61f0>]"
      ]
     },
     "execution_count": 78,
     "metadata": {},
     "output_type": "execute_result"
    },
    {
     "data": {
      "image/png": "[encoded data removed]",
      "text/plain": [
       "<Figure size 432x288 with 1 Axes>"
      ]
     },
     "metadata": {
      "needs_background": "light"
     },
     "output_type": "display_data"
    }
   ],
   "source": [
    "plt.plot(TP_rate)"
   ]
  },
  {
   "cell_type": "code",
   "execution_count": 91,
   "id": "4019257a",
   "metadata": {},
   "outputs": [],
   "source": [
    "#Question 9\n",
    "beer['pos & neg'] = abs(beer['pos'] - 0.5)\n",
    "sort = beer.sort_values(by = 'pos & neg', ascending = False)"
   ]
  },
  {
   "cell_type": "code",
   "execution_count": 87,
   "id": "f9b1adc3",
   "metadata": {},
   "outputs": [],
   "source": [
    "def accuracy(sort, k):\n",
    "    rows = sort.iloc[0:k]\n",
    "    return np.average(rows['predictions'] == rows['accurate'])"
   ]
  },
  {
   "cell_type": "code",
   "execution_count": 88,
   "id": "97caa05a",
   "metadata": {},
   "outputs": [
    {
     "data": {
      "text/plain": [
       "[1.0, 0.42, 0.3912]"
      ]
     },
     "execution_count": 88,
     "metadata": {},
     "output_type": "execute_result"
    }
   ],
   "source": [
    "TP_confident_scores = []\n",
    "for i in [1,100,10000]:\n",
    "    TP_confident_scores.append(accuracy(sort, i))\n",
    "\n",
    "TP_confident_scores"
   ]
  },
  {
   "cell_type": "code",
   "execution_count": 90,
   "id": "bad03377",
   "metadata": {},
   "outputs": [
    {
     "data": {
      "text/plain": [
       "[<matplotlib.lines.Line2D at 0x7f5b09cf2610>]"
      ]
     },
     "execution_count": 90,
     "metadata": {},
     "output_type": "execute_result"
    },
    {
     "data": {
      "image/png": "[encoded data removed]",
      "text/plain": [
       "<Figure size 432x288 with 1 Axes>"
      ]
     },
     "metadata": {
      "needs_background": "light"
     },
     "output_type": "display_data"
    }
   ],
   "source": [
    "plt.plot([1,100,10000], TP_confident_scores)"
   ]
  },
  {
   "cell_type": "code",
   "execution_count": null,
   "id": "dc9536bd",
   "metadata": {},
   "outputs": [],
   "source": []
  }
 ],
 "metadata": {
  "kernelspec": {
   "display_name": "Python 3 (clean)",
   "language": "python",
   "name": "python3_clean"
  },
  "language_info": {
   "codemirror_mode": {
    "name": "ipython",
    "version": 3
   },
   "file_extension": ".py",
   "mimetype": "text/x-python",
   "name": "python",
   "nbconvert_exporter": "python",
   "pygments_lexer": "ipython3",
   "version": "3.9.5"
  }
 },
 "nbformat": 4,
 "nbformat_minor": 5
}
